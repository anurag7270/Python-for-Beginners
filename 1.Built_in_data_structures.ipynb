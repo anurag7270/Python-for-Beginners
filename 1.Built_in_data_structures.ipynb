{
 "cells": [
  {
   "cell_type": "markdown",
   "metadata": {},
   "source": [
    "# Data Structures : Built_in"
   ]
  },
  {
   "cell_type": "markdown",
   "metadata": {},
   "source": [
    "# List"
   ]
  },
  {
   "cell_type": "code",
   "execution_count": 120,
   "metadata": {},
   "outputs": [
    {
     "name": "stdout",
     "output_type": "stream",
     "text": [
      "List 1=  [1, 2, 3, 4, 5]\n",
      "List 2=  [1, 2, 3.5, 'hi', 'anurag', 4]\n"
     ]
    }
   ],
   "source": [
    "# list are enclosed within square brackets \"[]\".\n",
    "list1=[1,2,3,4,5]\n",
    "print(\"List 1= \",list1)\n",
    "\n",
    "# can store data of different data type\n",
    "# we can store float, int or string data in a single list\n",
    "list2=[1,2,3.5,'hi','anurag',4]\n",
    "print(\"List 2= \",list2)"
   ]
  },
  {
   "cell_type": "code",
   "execution_count": 121,
   "metadata": {},
   "outputs": [
    {
     "data": {
      "text/plain": [
       "False"
      ]
     },
     "execution_count": 121,
     "metadata": {},
     "output_type": "execute_result"
    }
   ],
   "source": [
    "# list are ordered\n",
    "# the first element you add in the list remains at the index 0 \n",
    "# and second element is 1 and so on.\n",
    "list1==list2   #list with same elements nut not same order"
   ]
  },
  {
   "cell_type": "code",
   "execution_count": 122,
   "metadata": {},
   "outputs": [
    {
     "data": {
      "text/plain": [
       "1"
      ]
     },
     "execution_count": 122,
     "metadata": {},
     "output_type": "execute_result"
    }
   ],
   "source": [
    "#You can access list elements using indexing\n",
    "list1[0]"
   ]
  },
  {
   "cell_type": "code",
   "execution_count": 123,
   "metadata": {},
   "outputs": [
    {
     "data": {
      "text/plain": [
       "5"
      ]
     },
     "execution_count": 123,
     "metadata": {},
     "output_type": "execute_result"
    }
   ],
   "source": [
    "#Negative indexing in list\n",
    "list1[-1]"
   ]
  },
  {
   "cell_type": "code",
   "execution_count": 124,
   "metadata": {},
   "outputs": [
    {
     "name": "stdout",
     "output_type": "stream",
     "text": [
      "List 3=  [[1, 2, 3], 'hello', 4, 5, 6]\n",
      "Adding 10 in list3=  [[1, 2, 3], 'hello', 4, 5, 6, 10]\n",
      "Deleting second element in list3=  [[1, 2, 3], 4, 5, 6, 10]\n"
     ]
    }
   ],
   "source": [
    "#list can be nested\n",
    "#you can have list inside list\n",
    "list3=[[1,2,3],'hello',4,5,6]\n",
    "print(\"List 3= \",list3)\n",
    "\n",
    "#list are mutable\n",
    "#we can insert or delete any element from the list\n",
    "list3.append(10)\n",
    "print(\"Adding 10 in list3= \",list3)\n",
    "\n",
    "del list3[1]\n",
    "print(\"Deleting second element in list3= \",list3)\n",
    "# list are dynamic\n",
    "# when we add any element in the list, it grows\n",
    "# and when we delete element, it shrinks"
   ]
  },
  {
   "cell_type": "markdown",
   "metadata": {},
   "source": [
    "# Tuples"
   ]
  },
  {
   "cell_type": "code",
   "execution_count": 125,
   "metadata": {},
   "outputs": [
    {
     "name": "stdout",
     "output_type": "stream",
     "text": [
      "Tuple 1=  (1, 2, 3, 4, 5)\n",
      "Tuple 2=  (1, 2, 3, 4, 5, 6)\n"
     ]
    }
   ],
   "source": [
    "# stores different types of collection of data.\n",
    "# similar to the list but has two difference.\n",
    "# Tuples are comma seprated elements when closed within the parenthesis \"()\" unlike in list\"[]\"\n",
    "# you you dont use parenthesis also, the values seprated by te comma are called as tuple\n",
    "tuple1=(1,2,3,4,5)\n",
    "print(\"Tuple 1= \",tuple1)\n",
    "tuple2=1,2,3,4,5,6\n",
    "print(\"Tuple 2= \",tuple2)"
   ]
  },
  {
   "cell_type": "code",
   "execution_count": 126,
   "metadata": {},
   "outputs": [
    {
     "name": "stdout",
     "output_type": "stream",
     "text": [
      "()\n"
     ]
    }
   ],
   "source": [
    "#lets create an empty element in tuple\n",
    "tuple1=tuple()\n",
    "print(tuple1)"
   ]
  },
  {
   "cell_type": "code",
   "execution_count": 127,
   "metadata": {},
   "outputs": [
    {
     "data": {
      "text/plain": [
       "int"
      ]
     },
     "execution_count": 127,
     "metadata": {},
     "output_type": "execute_result"
    }
   ],
   "source": [
    "tuple2=(2)\n",
    "#NOTE: this is not  tuple, it is an integer value \n",
    "type(tuple2)"
   ]
  },
  {
   "cell_type": "code",
   "execution_count": 128,
   "metadata": {},
   "outputs": [
    {
     "name": "stdout",
     "output_type": "stream",
     "text": [
      "(2,)\n"
     ]
    }
   ],
   "source": [
    "#so to create a tuple with a single element, we need to put a comma \",\" after the element \n",
    "tuple3=(2,)\n",
    "print(tuple3)"
   ]
  },
  {
   "cell_type": "code",
   "execution_count": 2,
   "metadata": {},
   "outputs": [],
   "source": [
    "#tuple are immutable\n",
    "#After creating the tuple we can't modify it.\n",
    "tuple1=(1,2,3,4,5,6)\n",
    "# we cant insert the elements and neither can we delete.\n",
    "try:\n",
    "    tuple1.append(5)\n",
    "except:\n",
    "    tuple1"
   ]
  },
  {
   "cell_type": "markdown",
   "metadata": {},
   "source": [
    "# Dictionary"
   ]
  },
  {
   "cell_type": "code",
   "execution_count": 130,
   "metadata": {},
   "outputs": [],
   "source": [
    "# It is defined as key values based\n",
    "# seprated by comma \",\"\n",
    "# encloed within curly braces \"{}\"\n",
    "# key and values are seprated by \";\"\n",
    "\n",
    "# SYNTAX: Dictionary_name={key1:value1,key2:value2,key2:value2,....}\n",
    "\n",
    "# keys in the dictionarys need to be unique. \n",
    "# values can be mutable or immutable but ket must be im mutable\n",
    "# we can't have a list of keys as a dictionary."
   ]
  },
  {
   "cell_type": "code",
   "execution_count": 131,
   "metadata": {},
   "outputs": [
    {
     "name": "stdout",
     "output_type": "stream",
     "text": [
      "Dictionary d=  {}\n",
      "Dictionary d1=  {'Anurag': 'anurag@abcd.co.in', 'Rohan': 'rohan@abcd.com'}\n"
     ]
    }
   ],
   "source": [
    "#creating an empty dictionary \n",
    "d={}\n",
    "print(\"Dictionary d= \", d)\n",
    "\n",
    "#creating a dictionary with values inside it\n",
    "d1={\"Anurag\":\"anurag@abcd.co.in\", \"Rohan\":\"rohan@abcd.com\"}\n",
    "print(\"Dictionary d1= \",d1)"
   ]
  },
  {
   "cell_type": "code",
   "execution_count": 132,
   "metadata": {},
   "outputs": [
    {
     "name": "stdout",
     "output_type": "stream",
     "text": [
      "{'a': '4', 'b': '2', 'c': '3'}\n"
     ]
    }
   ],
   "source": [
    "# keys are unique\n",
    "# lets try creating a duplicate keys\n",
    "d2={\"a\":\"1\",\"b\":\"2\",\"c\":\"3\",\"a\":\"4\"}\n",
    "# here we have two values for same key \"a\"\n",
    "# when we will print d2, we will not see two a, \n",
    "print(d2)"
   ]
  },
  {
   "cell_type": "code",
   "execution_count": 6,
   "metadata": {},
   "outputs": [
    {
     "ename": "TypeError",
     "evalue": "unhashable type: 'list'",
     "output_type": "error",
     "traceback": [
      "\u001b[1;31m-----------------------------------------------\u001b[0m",
      "\u001b[1;31mTypeError\u001b[0m     Traceback (most recent call last)",
      "\u001b[1;32m<ipython-input-6-c13c72665b8f>\u001b[0m in \u001b[0;36m<module>\u001b[1;34m\u001b[0m\n\u001b[0;32m      1\u001b[0m \u001b[1;31m# can't use list as a key in the dictionary\u001b[0m\u001b[1;33m\u001b[0m\u001b[1;33m\u001b[0m\u001b[1;33m\u001b[0m\u001b[0m\n\u001b[1;32m----> 2\u001b[1;33m \u001b[0md3\u001b[0m\u001b[1;33m=\u001b[0m\u001b[1;33m{\u001b[0m\u001b[1;33m[\u001b[0m\u001b[1;36m1\u001b[0m\u001b[1;33m,\u001b[0m\u001b[1;36m2\u001b[0m\u001b[1;33m,\u001b[0m\u001b[1;36m3\u001b[0m\u001b[1;33m]\u001b[0m\u001b[1;33m:\u001b[0m\u001b[1;34m\"anurag\"\u001b[0m\u001b[1;33m}\u001b[0m\u001b[1;33m\u001b[0m\u001b[1;33m\u001b[0m\u001b[0m\n\u001b[0m\u001b[0;32m      3\u001b[0m \u001b[0mprint\u001b[0m\u001b[1;33m(\u001b[0m\u001b[0md3\u001b[0m\u001b[1;33m)\u001b[0m\u001b[1;33m\u001b[0m\u001b[1;33m\u001b[0m\u001b[0m\n",
      "\u001b[1;31mTypeError\u001b[0m: unhashable type: 'list'"
     ]
    }
   ],
   "source": [
    "# can't use list as a key in the dictionary \n",
    "d3={[1,2,3]:\"anurag\"}\n",
    "print(d3)  "
   ]
  },
  {
   "cell_type": "code",
   "execution_count": 134,
   "metadata": {},
   "outputs": [
    {
     "data": {
      "text/plain": [
       "True"
      ]
     },
     "execution_count": 134,
     "metadata": {},
     "output_type": "execute_result"
    }
   ],
   "source": [
    "# dictionarys are unordered \n",
    "d1={\"1\":\"a\",\"2\":\"b\"}\n",
    "d2={\"2\":\"b\",\"1\":\"a\"}\n",
    "d1==d2"
   ]
  },
  {
   "cell_type": "code",
   "execution_count": 135,
   "metadata": {},
   "outputs": [
    {
     "name": "stdout",
     "output_type": "stream",
     "text": [
      "Key of element 1=  a\n"
     ]
    }
   ],
   "source": [
    "# because dictionarys are unordered, so we cant access the elements of dictonary using index\n",
    "# so we need to use the key to access the element\n",
    "d1[\"1\"]\n",
    "print(\"Key of element 1= \",d1[\"1\"])"
   ]
  },
  {
   "cell_type": "code",
   "execution_count": 136,
   "metadata": {},
   "outputs": [
    {
     "name": "stdout",
     "output_type": "stream",
     "text": [
      "{'2': 'b'}\n"
     ]
    }
   ],
   "source": [
    "del d1[\"1\"]\n",
    "print(d1)"
   ]
  },
  {
   "cell_type": "code",
   "execution_count": 137,
   "metadata": {},
   "outputs": [
    {
     "name": "stdout",
     "output_type": "stream",
     "text": [
      "{'1': {1: 2}}\n"
     ]
    }
   ],
   "source": [
    "# dictionary can be nested\n",
    "# we can use the value of dictionary as the another dictionary\n",
    "# but we cant use the key of dictionary as another dictionary  \n",
    "d={\"1\":{1:2}}\n",
    "print(d)"
   ]
  },
  {
   "cell_type": "markdown",
   "metadata": {},
   "source": [
    "# Sets"
   ]
  },
  {
   "cell_type": "code",
   "execution_count": 138,
   "metadata": {},
   "outputs": [
    {
     "name": "stdout",
     "output_type": "stream",
     "text": [
      "set()\n"
     ]
    }
   ],
   "source": [
    "# Set is a collection of unique elements\n",
    "# No element is repeated \n",
    "# defined in the \"{}\"\n",
    "# To create an empty set, you need set constructer\n",
    "s=set()\n",
    "print(s)"
   ]
  },
  {
   "cell_type": "code",
   "execution_count": 139,
   "metadata": {},
   "outputs": [
    {
     "name": "stdout",
     "output_type": "stream",
     "text": [
      "{'H', 'o', 'l', 'e'}\n"
     ]
    }
   ],
   "source": [
    "# you can create set from the string\n",
    "s=set(\"Hello\")\n",
    "print(s)\n",
    "# repeated elemnts are ignored"
   ]
  },
  {
   "cell_type": "code",
   "execution_count": 140,
   "metadata": {},
   "outputs": [
    {
     "name": "stdout",
     "output_type": "stream",
     "text": [
      "{1, 2, 3, 4, 5, 6, 7, 8, 9, 10}\n"
     ]
    }
   ],
   "source": [
    "s1=set([1,2,3,4,5,6,7,8,9,10])\n",
    "print(s1)"
   ]
  },
  {
   "cell_type": "code",
   "execution_count": 141,
   "metadata": {},
   "outputs": [
    {
     "name": "stdout",
     "output_type": "stream",
     "text": [
      "{1, 2, 3, 4, 5, 6, 7, 8, 9, 10}\n"
     ]
    }
   ],
   "source": [
    "# you can create using curly braces also\n",
    "s2={1, 2, 3, 4, 5, 6, 7, 8, 9, 10}\n",
    "print(s2)"
   ]
  },
  {
   "cell_type": "code",
   "execution_count": 142,
   "metadata": {},
   "outputs": [
    {
     "data": {
      "text/plain": [
       "set"
      ]
     },
     "execution_count": 142,
     "metadata": {},
     "output_type": "execute_result"
    }
   ],
   "source": [
    "# you are taking the \"{}\" and inside that you are taking key values that means that is dictonary \n",
    "# and if you are taking the elements that means you are taking the sets.\n",
    "type(s2)"
   ]
  },
  {
   "cell_type": "code",
   "execution_count": 143,
   "metadata": {},
   "outputs": [
    {
     "name": "stdout",
     "output_type": "stream",
     "text": [
      "{1, 2, 3, 4, 5}\n"
     ]
    }
   ],
   "source": [
    "# What happens if i use duplicate values in set?\n",
    "s3={1,2,3,4,5,1,2}\n",
    "print(s3)  #duplicates values are ignored in sets"
   ]
  },
  {
   "cell_type": "code",
   "execution_count": 144,
   "metadata": {},
   "outputs": [
    {
     "data": {
      "text/plain": [
       "True"
      ]
     },
     "execution_count": 144,
     "metadata": {},
     "output_type": "execute_result"
    }
   ],
   "source": [
    "# liske dictionary, set is also unordered \n",
    "s1==s2"
   ]
  },
  {
   "cell_type": "code",
   "execution_count": 145,
   "metadata": {},
   "outputs": [
    {
     "name": "stdout",
     "output_type": "stream",
     "text": [
      "{1, 2, 3, 4, 5, 9}\n"
     ]
    }
   ],
   "source": [
    "# set is mutable\n",
    "# you can manupilate that\n",
    "s3.add(9)\n",
    "print(s3)"
   ]
  },
  {
   "cell_type": "code",
   "execution_count": 146,
   "metadata": {},
   "outputs": [
    {
     "ename": "TypeError",
     "evalue": "unhashable type: 'list'",
     "output_type": "error",
     "traceback": [
      "\u001b[1;31m---------------------------------------------------------------------------\u001b[0m",
      "\u001b[1;31mTypeError\u001b[0m                                 Traceback (most recent call last)",
      "\u001b[1;32m<ipython-input-146-9cb15434c873>\u001b[0m in \u001b[0;36m<module>\u001b[1;34m\u001b[0m\n\u001b[0;32m      2\u001b[0m \u001b[1;31m# mutable types cant be elements of the sets\u001b[0m\u001b[1;33m\u001b[0m\u001b[1;33m\u001b[0m\u001b[1;33m\u001b[0m\u001b[0m\n\u001b[0;32m      3\u001b[0m \u001b[1;31m# you cant have list as the elemenet of the set\u001b[0m\u001b[1;33m\u001b[0m\u001b[1;33m\u001b[0m\u001b[1;33m\u001b[0m\u001b[0m\n\u001b[1;32m----> 4\u001b[1;33m \u001b[0ms4\u001b[0m\u001b[1;33m=\u001b[0m\u001b[1;33m{\u001b[0m\u001b[1;33m[\u001b[0m\u001b[1;36m1\u001b[0m\u001b[1;33m,\u001b[0m\u001b[1;36m2\u001b[0m\u001b[1;33m,\u001b[0m\u001b[1;36m3\u001b[0m\u001b[1;33m,\u001b[0m\u001b[1;36m4\u001b[0m\u001b[1;33m]\u001b[0m\u001b[1;33m,\u001b[0m\u001b[1;36m5\u001b[0m\u001b[1;33m,\u001b[0m\u001b[1;36m6\u001b[0m\u001b[1;33m}\u001b[0m\u001b[1;33m\u001b[0m\u001b[1;33m\u001b[0m\u001b[0m\n\u001b[0m\u001b[0;32m      5\u001b[0m \u001b[0mprint\u001b[0m\u001b[1;33m(\u001b[0m\u001b[0ms4\u001b[0m\u001b[1;33m)\u001b[0m   \u001b[1;31m#---->this implies that set cant be nested\u001b[0m\u001b[1;33m\u001b[0m\u001b[1;33m\u001b[0m\u001b[0m\n",
      "\u001b[1;31mTypeError\u001b[0m: unhashable type: 'list'"
     ]
    }
   ],
   "source": [
    "# set can contain only immutable obeject as elements \n",
    "# mutable types cant be elements of the sets\n",
    "# you cant have list as the elemenet of the set\n",
    "s4={[1,2,3,4],5,6}\n",
    "print(s4)   #---->this implies that set cant be nested"
   ]
  },
  {
   "cell_type": "code",
   "execution_count": 147,
   "metadata": {},
   "outputs": [
    {
     "name": "stdout",
     "output_type": "stream",
     "text": [
      "{1, 2, 3, 4.7, 'anurag'}\n"
     ]
    }
   ],
   "source": [
    "# set can have different types of element, but the type of element should be immutable object\n",
    "s5={\"anurag\",1,2,3,4.7}\n",
    "print(s5)"
   ]
  },
  {
   "cell_type": "code",
   "execution_count": 148,
   "metadata": {},
   "outputs": [
    {
     "data": {
      "text/plain": [
       "True"
      ]
     },
     "execution_count": 148,
     "metadata": {},
     "output_type": "execute_result"
    }
   ],
   "source": [
    "# you can perform standard operations of the sets, which you use in Maths\n",
    "# if you want to create a list of items where each section is unique,\n",
    "# then you can use the set data structure\n",
    "# and because set in unordered, we cant access the element of the set using the index\n",
    "# in the dictionary we have key and value pair and using keys we can access the values,\n",
    "# but in the set we dont have keys and values. So to access the element from the key, \n",
    "# you can use the loop or you can check whether the element is present in the set or not using the \n",
    "# inmembership operator.\n",
    "1 in s5"
   ]
  },
  {
   "cell_type": "code",
   "execution_count": 149,
   "metadata": {},
   "outputs": [
    {
     "name": "stdout",
     "output_type": "stream",
     "text": [
      "1\n",
      "2\n",
      "3\n",
      "4.7\n",
      "anurag\n"
     ]
    }
   ],
   "source": [
    "for i in s5:\n",
    "    print(i)"
   ]
  }
 ],
 "metadata": {
  "kernelspec": {
   "display_name": "Python 3",
   "language": "python",
   "name": "python3"
  },
  "language_info": {
   "codemirror_mode": {
    "name": "ipython",
    "version": 3
   },
   "file_extension": ".py",
   "mimetype": "text/x-python",
   "name": "python",
   "nbconvert_exporter": "python",
   "pygments_lexer": "ipython3",
   "version": "3.8.5"
  }
 },
 "nbformat": 4,
 "nbformat_minor": 4
}
