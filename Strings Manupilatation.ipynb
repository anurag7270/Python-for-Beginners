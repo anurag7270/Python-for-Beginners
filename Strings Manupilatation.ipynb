{
 "cells": [
  {
   "cell_type": "markdown",
   "metadata": {},
   "source": [
    "# String Manipulation"
   ]
  },
  {
   "cell_type": "markdown",
   "metadata": {},
   "source": [
    "This example will demonstrate how you can do several things with strings.\n",
    "\n",
    "1. Convert a string to Lower Case.\n",
    "2. Convert a string to Upper Case\n",
    "3. Capitalize a String\n",
    "4. Slice substrings from a string\n",
    "5. Find a particular substring in a string\n",
    "6. Chop of leading and trailing characters from strings.\n",
    "7. Find out the length of strings\n",
    "8. Replace a substring by another."
   ]
  },
  {
   "cell_type": "markdown",
   "metadata": {},
   "source": [
    "**Creating a string**"
   ]
  },
  {
   "cell_type": "code",
   "execution_count": 6,
   "metadata": {},
   "outputs": [
    {
     "name": "stdout",
     "output_type": "stream",
     "text": [
      "Original String: Hello World!\n"
     ]
    }
   ],
   "source": [
    "anurag = \"Hello World!\"\n",
    "print(\"Original String: \"+anurag)"
   ]
  },
  {
   "cell_type": "markdown",
   "metadata": {},
   "source": [
    "**Converting string to lower case and upper case**"
   ]
  },
  {
   "cell_type": "code",
   "execution_count": 8,
   "metadata": {},
   "outputs": [
    {
     "name": "stdout",
     "output_type": "stream",
     "text": [
      "hello world!\n",
      "HELLO WORLD!\n"
     ]
    }
   ],
   "source": [
    "anurag = \"Hello World!\"\n",
    "print(anurag.lower())\n",
    "print(anurag.upper())"
   ]
  },
  {
   "cell_type": "markdown",
   "metadata": {},
   "source": [
    "**Capitalizing a string**"
   ]
  },
  {
   "cell_type": "code",
   "execution_count": 17,
   "metadata": {},
   "outputs": [
    {
     "name": "stdout",
     "output_type": "stream",
     "text": [
      "Hello world!\n"
     ]
    }
   ],
   "source": [
    "anurag = \"hello World!\"\n",
    "print(anurag.capitalize())"
   ]
  },
  {
   "cell_type": "markdown",
   "metadata": {},
   "source": [
    "**Trying to slice out a substring between given indexes**"
   ]
  },
  {
   "cell_type": "code",
   "execution_count": 12,
   "metadata": {},
   "outputs": [
    {
     "name": "stdout",
     "output_type": "stream",
     "text": [
      "Substring from index 1 to 7\n",
      "hello World!\n",
      "ello Wo\n"
     ]
    }
   ],
   "source": [
    "print(\"Substring from index 1 to 7\")\n",
    "print(anurag)\n",
    "print(anurag[1:8])"
   ]
  },
  {
   "cell_type": "markdown",
   "metadata": {},
   "source": [
    "**Find the position of a substring within the string**"
   ]
  },
  {
   "cell_type": "code",
   "execution_count": 18,
   "metadata": {},
   "outputs": [
    {
     "name": "stdout",
     "output_type": "stream",
     "text": [
      "2\n"
     ]
    }
   ],
   "source": [
    "print(anurag.find('llo'))"
   ]
  },
  {
   "cell_type": "code",
   "execution_count": 22,
   "metadata": {},
   "outputs": [
    {
     "name": "stdout",
     "output_type": "stream",
     "text": [
      "Now, trying to find a substring between specified indexes only: looking for 'l' between 4 and 9\n",
      "hello World!\n",
      "-1\n"
     ]
    }
   ],
   "source": [
    "# Now, trying to find the index of a substring between specified indexes only\n",
    "print(\"Now, trying to find a substring between specified indexes only: looking for 'l' between 4 and 9\")\n",
    "print(anurag)\n",
    "print(anurag.find('l',4,9))"
   ]
  },
  {
   "cell_type": "code",
   "execution_count": 23,
   "metadata": {},
   "outputs": [
    {
     "name": "stdout",
     "output_type": "stream",
     "text": [
      "Akash World!\n"
     ]
    }
   ],
   "source": [
    "# Now let us try to replace/substitute a substring of this string with another string\n",
    "print(anurag.replace(\"hello\",\"Akash\"))"
   ]
  },
  {
   "cell_type": "code",
   "execution_count": 27,
   "metadata": {},
   "outputs": [
    {
     "name": "stdout",
     "output_type": "stream",
     "text": [
      "['hello', 'World!']\n"
     ]
    }
   ],
   "source": [
    "# Now let us try to split the string, into separate words\n",
    "print(anurag.split(\" \"))"
   ]
  },
  {
   "cell_type": "code",
   "execution_count": 28,
   "metadata": {},
   "outputs": [
    {
     "name": "stdout",
     "output_type": "stream",
     "text": [
      "['hello', 'world']\n"
     ]
    }
   ],
   "source": [
    "# Now let us try to split the string, into separate words\n",
    "\n",
    "anurag1=\"hello-world\"\n",
    "print(anurag1.split(\"-\"))"
   ]
  },
  {
   "cell_type": "code",
   "execution_count": 35,
   "metadata": {},
   "outputs": [
    {
     "name": "stdout",
     "output_type": "stream",
     "text": [
      "Current Test String = Hello World!  \n",
      "Length (there are whitespaces at the end):len(testString2)\n",
      "Length after stripping len(testString2.strip())\n"
     ]
    }
   ],
   "source": [
    "# Remove leading and trailing whitespace characters\n",
    "testString2 = \"Hello World!  \"\n",
    "print(\"Current Test String = \" + testString2)\n",
    "print(\"Length (there are whitespaces at the end):\" + 'len(testString2)')\n",
    "print(\"Length after stripping \"+ 'len(testString2.strip())')"
   ]
  }
 ],
 "metadata": {
  "kernelspec": {
   "display_name": "Python 3",
   "language": "python",
   "name": "python3"
  },
  "language_info": {
   "codemirror_mode": {
    "name": "ipython",
    "version": 3
   },
   "file_extension": ".py",
   "mimetype": "text/x-python",
   "name": "python",
   "nbconvert_exporter": "python",
   "pygments_lexer": "ipython3",
   "version": "3.8.5"
  }
 },
 "nbformat": 4,
 "nbformat_minor": 4
}
