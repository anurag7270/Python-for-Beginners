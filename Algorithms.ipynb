{
 "cells": [
  {
   "cell_type": "markdown",
   "metadata": {},
   "source": [
    "# Bubble Sort"
   ]
  },
  {
   "cell_type": "markdown",
   "metadata": {},
   "source": [
    "Takes an unsorted list and oredr them in ascending values. We have lowest number at the beginning and highest number at the over the end of the list."
   ]
  },
  {
   "cell_type": "code",
   "execution_count": 11,
   "metadata": {},
   "outputs": [
    {
     "name": "stdout",
     "output_type": "stream",
     "text": [
      "[1, 2, 3, 4, 4, 5, 5, 6, 7, 8]\n"
     ]
    }
   ],
   "source": [
    "def bubble(list_a):\n",
    "    index_length = len(list_a)-1\n",
    "    sorted = False\n",
    "    while not sorted:\n",
    "        sorted =True\n",
    "        for i in range(0,index_length):\n",
    "            if list_a[i]>list_a[i+1]:\n",
    "                sorted =False\n",
    "                list_a[i],list_a[i+1]=list_a[i+1],list_a[i]\n",
    "    return list_a\n",
    "\n",
    "print(bubble([4,6,8,5,3,2,4,7,5,1]))"
   ]
  },
  {
   "cell_type": "markdown",
   "metadata": {},
   "source": [
    "# Selection Sort"
   ]
  },
  {
   "cell_type": "code",
   "execution_count": 12,
   "metadata": {},
   "outputs": [
    {
     "name": "stdout",
     "output_type": "stream",
     "text": [
      "[1, 2, 3, 4, 4, 5, 5, 6, 7, 8]\n"
     ]
    }
   ],
   "source": [
    "def selection_sort(list_a):\n",
    "    index_length = range(0,len(list_a)-1)\n",
    "    for i in index_length:\n",
    "        min_value=i\n",
    "        for j in range(i+1, len(list_a)):\n",
    "            if list_a[j]<list_a[min_value]:\n",
    "                min_value=j\n",
    "                \n",
    "        if min_value!=i:\n",
    "            list_a[min_value],list_a[i]=list_a[i],list_a[min_value]\n",
    "    return list_a\n",
    "\n",
    "print(selection_sort([4,6,8,5,3,2,4,7,5,1]))"
   ]
  },
  {
   "cell_type": "markdown",
   "metadata": {},
   "source": [
    "Selection Sort is better than the bubble sort because, we are cutting down the number of items switches that we need to do and here, this one only switches onces per iteration."
   ]
  },
  {
   "cell_type": "markdown",
   "metadata": {},
   "source": [
    "# Quick Sort"
   ]
  },
  {
   "cell_type": "code",
   "execution_count": 21,
   "metadata": {},
   "outputs": [
    {
     "name": "stdout",
     "output_type": "stream",
     "text": [
      "[0, 1, 3, 4, 4, 5, 5, 5, 5, 6, 7, 7, 8, 8, 9]\n"
     ]
    }
   ],
   "source": [
    "def quick_sort(sequence):\n",
    "    length=len(sequence)\n",
    "    if length <=1:\n",
    "        return sequence\n",
    "    else:\n",
    "        pivot = sequence.pop()\n",
    "        \n",
    "    items_greater=[]\n",
    "    items_lower=[]\n",
    "    for item in sequence:\n",
    "        if item>pivot:\n",
    "            items_greater.append(item)\n",
    "        else:\n",
    "            items_lower.append(item)\n",
    "    return quick_sort(items_lower)+[pivot]+quick_sort(items_greater)\n",
    "\n",
    "print(quick_sort([5,6,4,7,4,5,3,5,5,1,8,8,9,7,0]))"
   ]
  },
  {
   "cell_type": "markdown",
   "metadata": {},
   "source": [
    "# Binary Search"
   ]
  },
  {
   "cell_type": "markdown",
   "metadata": {},
   "source": [
    "LET'S SEARCH FOR NUMBER: 7"
   ]
  },
  {
   "cell_type": "code",
   "execution_count": 23,
   "metadata": {},
   "outputs": [
    {
     "name": "stdout",
     "output_type": "stream",
     "text": [
      "4\n"
     ]
    }
   ],
   "source": [
    "def binary_sequence(sequence,item):\n",
    "    begin_index=0\n",
    "    end_index=len(sequence)-1\n",
    "    \n",
    "    while begin_index <=end_index:\n",
    "        mid_point=begin_index+(end_index-begin_index)//2\n",
    "        mid_point_value=sequence[mid_point]\n",
    "        \n",
    "        if mid_point_value==item:\n",
    "            return mid_point\n",
    "        elif item<mid_point_value:\n",
    "            end_index=mid_point-1\n",
    "        else:\n",
    "            begin_index=mid_point+1\n",
    "    return None\n",
    "\n",
    "sequence=[2,4,5,6,7,8,9,10,11,12,13,14]\n",
    "item=7\n",
    "print(binary_sequence(sequence,item))"
   ]
  },
  {
   "cell_type": "code",
   "execution_count": null,
   "metadata": {},
   "outputs": [],
   "source": []
  }
 ],
 "metadata": {
  "kernelspec": {
   "display_name": "Python 3",
   "language": "python",
   "name": "python3"
  },
  "language_info": {
   "codemirror_mode": {
    "name": "ipython",
    "version": 3
   },
   "file_extension": ".py",
   "mimetype": "text/x-python",
   "name": "python",
   "nbconvert_exporter": "python",
   "pygments_lexer": "ipython3",
   "version": "3.8.5"
  }
 },
 "nbformat": 4,
 "nbformat_minor": 4
}
